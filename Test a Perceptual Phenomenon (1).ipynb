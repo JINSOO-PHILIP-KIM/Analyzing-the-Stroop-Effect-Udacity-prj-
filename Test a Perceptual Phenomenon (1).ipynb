{
 "cells": [
  {
   "cell_type": "markdown",
   "metadata": {},
   "source": [
    "__Analyzing the Stroop Effect__<br>\n",
    "Submited on 18. Feb, 2018 <br>\n",
    "Written by Jinsoo Philip Kim "
   ]
  },
  {
   "cell_type": "markdown",
   "metadata": {},
   "source": [
    "__What is stroop Effect?__<br>\n",
    "In psychology, the Stroop effect is a demonstration of interference in the reaction time of a task. When the name of a color (e.g., \"blue\", \"green\", or \"red\") is printed in a color that is not denoted by the name (e.g., the word \"red\" printed in blue ink instead of red ink), naming the color of the word takes longer and is more prone to errors than when the color of the ink matches the name of the color. The effect is named after John Ridley Stroop, who first published the effect in English in 1935.The effect had previously been published in Germany in 1929. The original paper has been one of the most cited papers in the history of experimental psychology, leading to more than 700 replications. The effect has been used to create a psychological test (Stroop test) that is widely used in clinical practice and investigation. <br><br>\n",
    "This info is quoted from Wikipedia(https://en.wikipedia.org/wiki/Stroop_effect)"
   ]
  },
  {
   "cell_type": "markdown",
   "metadata": {},
   "source": [
    "(1) What is the independent variable? What is the dependent variable?"
   ]
  },
  {
   "cell_type": "markdown",
   "metadata": {},
   "source": [
    "**Independent variable**: Whether the color of word and the meaning of the word matches. <br>\n",
    "**Dependent variable**: Between the time that people see each word and name the color of the word."
   ]
  },
  {
   "cell_type": "markdown",
   "metadata": {},
   "source": [
    "(2) What is an appropriate set of hypotheses for this task? What kind of statistical test do you expect to perform? Justify your choices."
   ]
  },
  {
   "cell_type": "markdown",
   "metadata": {},
   "source": [
    "**An appropriate set of hypotheses for this task :**\n",
    "\n",
    "H0 : μcongruent = μincongruent<br>\n",
    "HA : μcongruent ≠ μincongruent\n",
    "\n",
    "**Statistical test I would perform:**\n",
    "\n",
    "Dependent t-test.<br>\n",
    "1) Because we don't have population parameters, therefore t-test is appropriate to perform.<br>\n",
    "2) Subjects are same, only the conditions(congruent or incongruent) are different. Therefore I chose to perform dependent t-test, not independent. "
   ]
  },
  {
   "cell_type": "markdown",
   "metadata": {},
   "source": [
    "(3) Report some descriptive statistics regarding this dataset. Include at least one measure of central tendency and at least one measure of variability. The name of the data file is 'stroopdata.csv'."
   ]
  },
  {
   "cell_type": "code",
   "execution_count": 1,
   "metadata": {
    "scrolled": true
   },
   "outputs": [
    {
     "name": "stdout",
     "output_type": "stream",
     "text": [
      "Median:\n",
      "Congruent      14.3565\n",
      "Incongruent    21.0175\n",
      "dtype: float64\n",
      "\n",
      "Mean:\n",
      "Congruent      14.051125\n",
      "Incongruent    22.015917\n",
      "dtype: float64\n",
      "\n",
      "Standard Deviation:\n",
      "Congruent      3.559358\n",
      "Incongruent    4.797057\n",
      "dtype: float64\n"
     ]
    }
   ],
   "source": [
    "import pandas as pd\n",
    "df = pd.read_csv('stroopdata.csv')\n",
    "print('Median:')\n",
    "print(df.median())\n",
    "print('')\n",
    "print('Mean:')\n",
    "print(df.mean())\n",
    "print('')\n",
    "print('Standard Deviation:')\n",
    "print(df.std())"
   ]
  },
  {
   "cell_type": "markdown",
   "metadata": {},
   "source": [
    "(4) Provide one or two visualizations that show the distribution of the sample data. Write one or two sentences noting what you observe about the plot or plots."
   ]
  },
  {
   "cell_type": "code",
   "execution_count": 2,
   "metadata": {},
   "outputs": [],
   "source": [
    "import numpy as np\n",
    "import matplotlib.pyplot as plt\n",
    "%matplotlib inline\n",
    "\n",
    "con = df['Congruent'] ; inc = df['Incongruent'] # Values of Congruent & Incongruent data each\n",
    "\n",
    "c_mean = con.mean()   ; i_mean = inc.mean() # mean of Congruent & Incongruent\n",
    "c_std  = con.std()    ; i_std  = inc.std() # standard deviation of Congruent & Incongruent"
   ]
  },
  {
   "cell_type": "code",
   "execution_count": 3,
   "metadata": {},
   "outputs": [
    {
     "data": {
      "image/png": "[encoded data removed]",
      "text/plain": [
       "<matplotlib.figure.Figure at 0x7f1c309fee10>"
      ]
     },
     "metadata": {},
     "output_type": "display_data"
    }
   ],
   "source": [
    "# Making scatterplot for Congruent by using numpy & matplotlib library \n",
    "x = (df.index) + 1\n",
    "y = df['Congruent']\n",
    "colors = 'blue'\n",
    "area = np.pi * 10\n",
    "fig = plt.figure()\n",
    "fig.suptitle('Congreunt Words ', fontsize = 12, fontweight = 'bold')\n",
    "ax = fig.add_subplot(111)\n",
    "fig.subplots_adjust(top=.85)\n",
    "ax.set_title('Response Time scatterplot')\n",
    "ax.set_xlabel('Subject #')\n",
    "ax.set_ylabel('Completion Time (seconds)')\n",
    "\n",
    "plt.xticks(np.arange(min(x), max(x)+1, 1.0))\n",
    "plt.yticks(np.arange(6, 36, 2))\n",
    "plt.scatter(x, y, s = area, c = colors, alpha = 0.5)\n",
    "plt.ylim([4,26])\n",
    "plt.xlim([0,25])\n",
    "plt.show()"
   ]
  },
  {
   "cell_type": "code",
   "execution_count": 6,
   "metadata": {
    "scrolled": true
   },
   "outputs": [
    {
     "data": {
      "image/png": "[encoded data removed]",
      "text/plain": [
       "<matplotlib.figure.Figure at 0x7f1c2e96a320>"
      ]
     },
     "metadata": {},
     "output_type": "display_data"
    }
   ],
   "source": [
    "# Making scatterplot for Incongruent by using numpy & matplotlib library \n",
    "x = (df.index)+1\n",
    "y = df['Incongruent']\n",
    "colors = 'red'\n",
    "area = np.pi * 10\n",
    "fig = plt.figure()\n",
    "fig.suptitle('Incongruent Words ', fontsize = 12, fontweight='bold')\n",
    "ax = fig.add_subplot(111)\n",
    "fig.subplots_adjust(top = .85)\n",
    "ax.set_title('Sample Response Time Scatterplot')\n",
    "ax.set_xlabel('Subject #')\n",
    "ax.set_ylabel('Completion Time (seconds)')\n",
    "\n",
    "plt.xticks(np.arange(min(x), max(x)+1, 1.0))\n",
    "plt.yticks(np.arange(10, 37, 2))\n",
    "plt.scatter(x, y, s=area, c= colors, alpha = 0.5)\n",
    "plt.ylim([10,37])\n",
    "plt.xlim([0,25])\n",
    "plt.show()"
   ]
  },
  {
   "cell_type": "code",
   "execution_count": 19,
   "metadata": {},
   "outputs": [
    {
     "data": {
      "text/plain": [
       "Text(0.5,1,'Boxplots of response time per word condition (n=24)')"
      ]
     },
     "execution_count": 19,
     "metadata": {},
     "output_type": "execute_result"
    },
    {
     "data": {
      "image/png": "[encoded data removed]",
      "text/plain": [
       "<matplotlib.figure.Figure at 0x7f1c26474630>"
      ]
     },
     "metadata": {},
     "output_type": "display_data"
    }
   ],
   "source": [
    "df.plot(kind='box');\n",
    "plt.xlabel(\"Response time in s\")\n",
    "plt.ylabel(\"Word condition\")\n",
    "plt.title('Boxplots of response time per word condition (n=24)', fontsize = 12, fontweight='bold')"
   ]
  },
  {
   "cell_type": "markdown",
   "metadata": {},
   "source": [
    "(5) Now, perform the statistical test and report the results. What is the confidence level and your critical statistic value? Do you reject the null hypothesis or fail to reject it? Come to a conclusion in terms of the experiment task. Did the results match up with your expectations?"
   ]
  },
  {
   "cell_type": "code",
   "execution_count": 5,
   "metadata": {},
   "outputs": [
    {
     "data": {
      "text/plain": [
       "Ttest_relResult(statistic=-8.020706944109957, pvalue=4.1030005857111781e-08)"
      ]
     },
     "execution_count": 5,
     "metadata": {},
     "output_type": "execute_result"
    }
   ],
   "source": [
    "# t_critical is based on t-table.\n",
    "t_critical = 2.069 # This is based on t-table with alpha = 0.025 (because this is two tail test), df= 24 - 1 = 23\n",
    "\n",
    "import scipy.stats as stats\n",
    "t_statistic = stats.ttest_rel(con, inc) #I use 'ttest_rel' because this is dependent.\n",
    "t_statistic"
   ]
  },
  {
   "cell_type": "markdown",
   "metadata": {},
   "source": [
    "**Conclusion<br>\n",
    "t_statistic is outside of t_critical, I would reject the null Hypothesis.<br>\n",
    "The result corresponds to my expectation.**"
   ]
  }
 ],
 "metadata": {
  "kernelspec": {
   "display_name": "Python 3",
   "language": "python",
   "name": "python3"
  },
  "language_info": {
   "codemirror_mode": {
    "name": "ipython",
    "version": 3
   },
   "file_extension": ".py",
   "mimetype": "text/x-python",
   "name": "python",
   "nbconvert_exporter": "python",
   "pygments_lexer": "ipython3",
   "version": "3.6.3"
  }
 },
 "nbformat": 4,
 "nbformat_minor": 2
}
